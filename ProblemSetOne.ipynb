{
 "cells": [
  {
   "cell_type": "markdown",
   "id": "d63ea3e2",
   "metadata": {},
   "source": [
    "#Question 1 C#\n",
    "What data type is each of the following?\n",
    "5\n",
    "5.0\n",
    "5 > 1\n",
    "'5'\n",
    "5 * 2\n",
    "'5' * 2\n",
    "'5' + '2'\n",
    "5 / 2\n",
    "5 % 2\n",
    "{5, 2, 1}\n",
    "5 == 3\n",
    "Pi (the number)"
   ]
  },
  {
   "cell_type": "markdown",
   "id": "27613aea",
   "metadata": {},
   "source": [
    "Answer 1:\n",
    "5 - Integer\n",
    "5.0 - Double\n",
    "5 > 1 - Boolean\n",
    "'5' - String\n",
    "5 * 2 - Integer\n",
    "'5' * 2 - Integer\n",
    "'5' + '2' - String\n",
    "5 / 2 - Integer\n",
    "5 % 2 - Integer\n",
    "{5, 2, 1} - Array\n",
    "5 == 3 - Boolean\n",
    "Pi (the number) - Constant (Pre-Defined)"
   ]
  },
  {
   "cell_type": "markdown",
   "id": "1737e547",
   "metadata": {},
   "source": [
    "Question 2 C# (a.)\n",
    "Write (and evaluate) C# expressions that answer these questions:\n",
    "a. How many letters are there in 'Supercalifragilisticexpialidocious'?"
   ]
  },
  {
   "cell_type": "markdown",
   "id": "8a638dc1",
   "metadata": {},
   "source": [
    "Commands:\n",
    "\n",
    "using System;\n",
    "namespace ProblemSetOne\n",
    "{\n",
    "    class Program\n",
    "    {\n",
    "        static void Main(string[] args)\n",
    "        {\n",
    "            string a = \"Supercalifragilisticexpialidocious\";\n",
    "            Console.WriteLine(a.Length);\n",
    "            \n",
    "\n",
    "        }\n",
    "    }\n",
    "}\n"
   ]
  },
  {
   "attachments": {},
   "cell_type": "markdown",
   "id": "1f3359d1",
   "metadata": {},
   "source": [
    "Output:\n",
    "\n",
    "![Q2A.png](Q2A.png)\n",
    "\n"
   ]
  },
  {
   "cell_type": "markdown",
   "id": "4142ff9e",
   "metadata": {},
   "source": [
    "Question 2 C# (b)\n",
    "b. Does 'Supercalifragilisticexpialidocious' contain 'ice' as a substring? "
   ]
  },
  {
   "cell_type": "markdown",
   "id": "106c4859",
   "metadata": {},
   "source": [
    "Input:\n",
    "using System;\n",
    "namespace ProblemSetOne\n",
    "{\n",
    "    class Program\n",
    "    {\n",
    "        static void Main(string[] args)\n",
    "        {\n",
    "            string a = \"Supercalifragilisticexpialidocious\";\n",
    "            Console.WriteLine(a.IndexOf(\"ice\"));\n",
    "           \n",
    "            \n",
    "\n",
    "        }\n",
    "    }\n",
    "}\n"
   ]
  },
  {
   "attachments": {},
   "cell_type": "markdown",
   "id": "f93e1e7c",
   "metadata": {},
   "source": [
    "Output:\n",
    "![Q2B.png](Q2B.png)\n"
   ]
  },
  {
   "cell_type": "markdown",
   "id": "96d368d4",
   "metadata": {},
   "source": [
    "Question 2 C# (c)\n",
    "Which of the following words is the longest:\n",
    "Supercalifragilisticexpialidocious, Honorificabilitudinitatibus, or\n",
    "Bababadalgharaghtakamminarronnkonn?"
   ]
  },
  {
   "cell_type": "markdown",
   "id": "3efbd33a",
   "metadata": {},
   "source": [
    "Input:\n",
    "\n",
    "    public class Program\n",
    "    {\n",
    "        public static void Main(string[] args)\n",
    "        {\n",
    "            string A = \"Supercalifragilisticexpialidocious\";\n",
    "            string B = \"Honorificabilitudinitatibus\";\n",
    "            string C = \"Bababadalgharaghtakamminarronnkonn\";\n",
    "            int a = A.Length;\n",
    "            int b = B.Length;\n",
    "            int c = C.Length;\n",
    "            if (a >= b && a >= c)\n",
    "            {\n",
    "                if (a == b)\n",
    "                {\n",
    "                    Console.WriteLine(A + \" and \" + B + \" are the longest \");\n",
    "                }\n",
    "                else if (a == c)\n",
    "                {\n",
    "                    Console.WriteLine(A + \" and \" + C + \" are the longest \");\n",
    "                }\n",
    "                else Console.WriteLine(A + \" is the longest\");\n",
    "            }\n",
    "            if (b >= a && b >= c)\n",
    "            {\n",
    "                if (b == a)\n",
    "                {\n",
    "                    Console.WriteLine(A + \" and \" + B + \" are the longest \");\n",
    "                }\n",
    "                else if (b == c)\n",
    "                {\n",
    "                    Console.WriteLine(C + \" and \" + B + \" are the longest \");\n",
    "                }\n",
    "                else Console.WriteLine(B + \" is the longest\");\n",
    "            }\n",
    "            if (c >= a && c >= a)\n",
    "            {\n",
    "                if (c == a)\n",
    "                {\n",
    "                    Console.WriteLine(A + \" and \" + C + \" are the longest \");\n",
    "                }\n",
    "                else if (c == b)\n",
    "                {\n",
    "                    Console.WriteLine(C + \" and \" + B + \" are the longest \");\n",
    "                }\n",
    "                else Console.WriteLine(C + \" is the longest\");\n",
    "            }\n",
    "        }\n",
    "    }\n",
    "}"
   ]
  },
  {
   "attachments": {},
   "cell_type": "markdown",
   "id": "12a176f2",
   "metadata": {},
   "source": [
    "Output:\n",
    "\n",
    "![Q2C.png](Q2C.png)"
   ]
  },
  {
   "cell_type": "markdown",
   "id": "b64cf41d",
   "metadata": {},
   "source": [
    "Question 2 C# (d)\n",
    "Which composer comes first in the dictionary: 'Berlioz', 'Borodin', 'Brian',\n",
    "'Bartok', 'Bellini', 'Buxtehude', 'Bernstein'. Which one comes last?"
   ]
  },
  {
   "cell_type": "markdown",
   "id": "7a58f7ad",
   "metadata": {},
   "source": [
    "Input:\n",
    "\n",
    "using System;\n",
    "using System.Collections.Generic;\n",
    "\n",
    "namespace ProblemSetOne\n",
    "{\n",
    "    public class Program\n",
    "    {\n",
    "        public static void Main(string[] args)\n",
    "        {\n",
    "            var composers = new SortedSet<string>();\n",
    "            composers.Add(\"Berlioz\");\n",
    "            composers.Add(\"Borodin\");\n",
    "            composers.Add(\"Brian\");\n",
    "            composers.Add(\"Bartok\");\n",
    "            composers.Add(\"Bellini\");\n",
    "            composers.Add(\"Buxtehude\");\n",
    "            composers.Add(\"Bernstein\");\n",
    "            foreach (var name in composers)\n",
    "            {\n",
    "                Console.WriteLine(name);\n",
    "            }\n",
    "\n",
    "\n",
    "        }\n",
    "    }\n",
    "}\n"
   ]
  },
  {
   "attachments": {},
   "cell_type": "markdown",
   "id": "30089127",
   "metadata": {},
   "source": [
    "Output:\n",
    "\n",
    "![Q2D.png](Q2D.png)"
   ]
  },
  {
   "cell_type": "markdown",
   "id": "9b05a967",
   "metadata": {},
   "source": [
    "Question 3 C#\n",
    "Implement function triangleArea(a,b,c) that takes as input the lengths of the 3\n",
    "sides of a triangle and returns the area of the triangle. By Heron's formula, the area\n",
    "of a triangle with side lengths a, b, and c is\n",
    "s(s - a)(s -b)(s -c)\n",
    ", where\n",
    "s = (a+b+c)/2"
   ]
  },
  {
   "cell_type": "markdown",
   "id": "01ab0b7f",
   "metadata": {},
   "source": [
    "Input:\n",
    "\n",
    "using System;\n",
    "using System.Collections.Generic;\n",
    "\n",
    "namespace ProblemSetOne\n",
    "{\n",
    "    public class Program\n",
    "    {\n",
    "        public static void Main(string[] args)\n",
    "        { \n",
    "            double s, area;\n",
    "      double a, b, c;\n",
    "\n",
    "        Console.WriteLine(\"Enter length\");\n",
    "            a = double.Parse(Console.ReadLine());\n",
    "        Console.WriteLine(\"Enter breadth\");\n",
    "            b = double.Parse(Console.ReadLine());\n",
    "        Console.WriteLine(\"Enter hypotenuse\");\n",
    "            c = double.Parse(Console.ReadLine());\n",
    "\n",
    "        s = (a + b + c) / 2;\n",
    "            area = Math.Sqrt(s* (s - a) * (s - b) * (s - c)); \n",
    "\n",
    "            Console.WriteLine(\"Area of the triangle = {0}\", area);\n",
    "\n",
    "\n",
    "        }\n",
    "    }\n",
    "}\n"
   ]
  },
  {
   "attachments": {},
   "cell_type": "markdown",
   "id": "6151ff4a",
   "metadata": {},
   "source": [
    "Ouput:\n",
    "\n",
    "![Q3.png](Q3.png)"
   ]
  },
  {
   "cell_type": "markdown",
   "id": "ad754857",
   "metadata": {},
   "source": [
    "Question 4 C#\n",
    "Write a program in C# Sharp to separate odd and even integers in separate arrays.\n",
    "Go to the editor\n",
    "Test Data :\n",
    "Input the number of elements to be stored in the array :5\n",
    "Input 5 elements in the array :\n",
    "element - 0 : 25\n",
    "element - 1 : 47\n",
    "element - 2 : 42\n",
    "element - 3 : 56\n",
    "element - 4 : 32"
   ]
  },
  {
   "cell_type": "markdown",
   "id": "65dd8c2b",
   "metadata": {},
   "source": [
    "Input:\n",
    "using System;\n",
    "\n",
    "namespace ProblemSetOne\n",
    "{\n",
    "    public class Program\n",
    "    {\n",
    "        public static void Main(string[] args)\n",
    "        {\n",
    "            int[] arr1 = new int[]\n",
    "         {\n",
    "            25,\n",
    "            47,\n",
    "            42,\n",
    "            56,\n",
    "            32\n",
    "         };\n",
    "            int[] arr2 = new int[5];\n",
    "            int[] arr3 = new int[5];\n",
    "            int i, j = 0, k = 0;\n",
    "            for (i = 0; i < 5; i++)\n",
    "            {\n",
    "                if (arr1[i] % 2 == 0)\n",
    "                {\n",
    "                    arr2[j] = arr1[i];\n",
    "                    j++;\n",
    "                }\n",
    "                else\n",
    "                {\n",
    "                    arr3[k] = arr1[i];\n",
    "                    k++;\n",
    "                }\n",
    "            }\n",
    "            Console.WriteLine(\"Even numbers are\");\n",
    "            for (i = 0; i < j; i++)\n",
    "            {\n",
    "                Console.WriteLine(arr2[i]);\n",
    "            }\n",
    "            Console.WriteLine(\"Odd numbers are\");\n",
    "            for (i = 0; i < k; i++)\n",
    "            {\n",
    "                Console.WriteLine(arr3[i]);\n",
    "            }\n",
    "\n",
    "        }\n",
    "    }\n",
    "}\n"
   ]
  },
  {
   "attachments": {},
   "cell_type": "markdown",
   "id": "6660eafd",
   "metadata": {},
   "source": [
    "Output:\n",
    "\n",
    "![Q4.png](Q4.png)"
   ]
  },
  {
   "cell_type": "markdown",
   "id": "4d22f01e",
   "metadata": {},
   "source": [
    "Question 5 C# (a)\n",
    "a. Write a function inside(x,y,x1,y1,x2,y2) that returns True or False\n",
    "depending on whether the point (x,y) lies in the rectangle with lower left\n",
    "corner (x1,y1) and upper right corner (x2,y2)."
   ]
  },
  {
   "cell_type": "markdown",
   "id": "f13dc783",
   "metadata": {},
   "source": [
    "Input (First part):\n",
    "\n",
    "Input:\n",
    "using System;\n",
    "\n",
    "namespace ProblemSetOne\n",
    "{\n",
    "    public class Program\n",
    "    {\n",
    "        static bool inside(int x, int y, int x1, int y1, int x2, int y2)\n",
    "        {\n",
    "\n",
    "            if (x > x1 && x < x2 && y > y1 && y < y2)\n",
    "                return true;\n",
    "            return false;\n",
    "        }\n",
    "        static void Main(string[] args)\n",
    "        {\n",
    "            int x1 = 0, y1 = 0, x2 = 2, y2 = 3, x = 1, y = 1;\n",
    "            if (inside(x, y, x1, y1, x2, y2))\n",
    "                Console.WriteLine(\"True\");\n",
    "            else\n",
    "                Console.WriteLine(\"False\");\n",
    "\n",
    "\n",
    "        }\n",
    "    }\n",
    "}\n"
   ]
  },
  {
   "attachments": {},
   "cell_type": "markdown",
   "id": "c294572b",
   "metadata": {},
   "source": [
    "Output:\n",
    "\n",
    "![Q5A1.png](Q5A1.png)"
   ]
  },
  {
   "cell_type": "markdown",
   "id": "a40a111f",
   "metadata": {},
   "source": [
    "Input (second part)\n",
    "\n",
    "using System;\n",
    "\n",
    "namespace ProblemSetOne\n",
    "{\n",
    "    public class Program\n",
    "    {\n",
    "        static bool inside(int x, int y, int x1, int y1, int x2, int y2)\n",
    "        {\n",
    "\n",
    "            if (x > x1 && x < x2 && y > y1 && y < y2)\n",
    "                return true;\n",
    "            return false;\n",
    "        }\n",
    "        static void Main(string[] args)\n",
    "        {\n",
    "            int x1 = 0, y1 = 0, x2 = 2, y2 = 3, x = -1, y = -1;\n",
    "            if (inside(x, y, x1, y1, x2, y2))\n",
    "                Console.WriteLine(\"True\");\n",
    "            els\n",
    "                Console.WriteLine(\"False\");\n",
    "\n",
    "\n",
    "        }\n",
    "    }\n",
    "}"
   ]
  },
  {
   "attachments": {},
   "cell_type": "markdown",
   "id": "93d05cdf",
   "metadata": {},
   "source": [
    "Output:\n",
    "\n",
    "![Q5A2.png](Q5A2.png)"
   ]
  },
  {
   "cell_type": "markdown",
   "id": "8c59843b",
   "metadata": {},
   "source": [
    "Question 5 C# (b)\n",
    "\n",
    "b. Use function inside() from part a. to write an expression that tests whether\n",
    "the point (1,1) lies in both of the following rectangles: one with lower left\n",
    "corner (0.3, 0.5) and upper right corner (1.1, 0.7) and the other with lower\n",
    "left corner (0.5, 0.2) and upper right corner (1.1, 2). "
   ]
  },
  {
   "cell_type": "markdown",
   "id": "b22d0178",
   "metadata": {},
   "source": [
    "Input:\n",
    "using System;\n",
    "\n",
    "namespace ProblemSetOne\n",
    "{\n",
    "    public class Program\n",
    "    {\n",
    "        static bool inside(double x, double y, double x1, double y1, double x2, double y2)\n",
    "        {\n",
    "\n",
    "            if (x > x1 && x < x2 && y > y1 && y < y2)\n",
    "                return true;\n",
    "            return false;\n",
    "        }\n",
    "        static void Main(string[] args)\n",
    "        {\n",
    "            \n",
    "                Console.WriteLine(inside(1, 1, 0.3, 0.5, 1.1, 0.7));\n",
    "                Console.WriteLine(inside(1, 1, 0.5, 0.2, 1.1, 2));\n",
    "        }\n",
    "    }\n",
    "}"
   ]
  },
  {
   "attachments": {},
   "cell_type": "markdown",
   "id": "d61851f9",
   "metadata": {},
   "source": [
    "Output:\n",
    "\n",
    "![Q5A.png](Q5B.png)"
   ]
  },
  {
   "cell_type": "markdown",
   "id": "812d36a1",
   "metadata": {},
   "source": [
    "Question 6 Python\n",
    "6. You can turn a word into pig-Latin using the following two rules (simplified):\n",
    "• If the word starts with a consonant, move that letter to the end and append\n",
    "'ay'. For example, 'happy' becomes 'appyhay' and 'pencil' becomes 'encilpay'.\n",
    "• If the word starts with a vowel, simply append 'way' to the end of the word.\n",
    "For example, 'enter' becomes 'enterway' and 'other' becomes 'otherway' . For\n",
    "our purposes, there are 5 vowels: a, e, i, o, u (so we count y as a consonant).\n",
    "Write a function pig() that takes a word (i.e., a string) as input and returns its pigLatin form. Your function should still work if the input word contains upper case\n",
    "characters. Your output should always be lower case however."
   ]
  },
  {
   "cell_type": "code",
   "execution_count": 2,
   "id": "93c51128",
   "metadata": {},
   "outputs": [
    {
     "name": "stdout",
     "output_type": "stream",
     "text": [
      "Convert message to pig latin: Happy\n",
      "appyhay\n"
     ]
    }
   ],
   "source": [
    "def pig ():\n",
    "    pigLatin = input(\"Convert message to pig latin: \")\n",
    "    wordList = pigLatin.lower().split(\" \")\n",
    "    vowels = ['a', 'e', 'i', 'o', 'u']\n",
    "    pigLatin = []\n",
    "    eachWord = []\n",
    "    for word in wordList:\n",
    "        if word[0] in 'aeiou': #case where vowel is first\n",
    "            pigLatin.append(word + 'way')\n",
    "        else:\n",
    "            for letter in word:\n",
    "                if letter not in 'aeiou': #word starts with a consonant, move that letter to end and append 'ay'\n",
    "                    pigLatin.append(word[1:] +  letter +'ay')\n",
    "            \n",
    "                    break\n",
    " \n",
    "\n",
    "    print(\" \".join(pigLatin))\n",
    "    \n",
    "pig()"
   ]
  },
  {
   "cell_type": "code",
   "execution_count": 3,
   "id": "31cf4809",
   "metadata": {},
   "outputs": [
    {
     "name": "stdout",
     "output_type": "stream",
     "text": [
      "Convert message to pig latin: ENTER\n",
      "enterway\n"
     ]
    }
   ],
   "source": [
    "def pig ():\n",
    "    pigLatin = input(\"Convert message to pig latin: \")\n",
    "    wordList = pigLatin.lower().split(\" \")\n",
    "    vowels = ['a', 'e', 'i', 'o', 'u']\n",
    "    pigLatin = []\n",
    "    eachWord = []\n",
    "    for word in wordList:\n",
    "        if word[0] in 'aeiou': #case where vowel is first\n",
    "            pigLatin.append(word + 'way')\n",
    "        else:\n",
    "            for letter in word:\n",
    "                if letter not in 'aeiou': #word starts with a consonant, move that letter to end and append 'ay'\n",
    "                    pigLatin.append(word[1:] +  letter +'ay')\n",
    "            \n",
    "                    break\n",
    " \n",
    "\n",
    "    print(\" \".join(pigLatin))\n",
    "    \n",
    "pig()"
   ]
  },
  {
   "cell_type": "markdown",
   "id": "fddc10e3",
   "metadata": {},
   "source": [
    "Question 7 Python\n",
    "File bloodtype1.txt records blood-types of patients (A, B, AB, O or OO) at a clinic.\n",
    "Write a function bldcount() that reads the file with name name and reports (i.e.,\n",
    "prints) how many patients there are in each bloodtype."
   ]
  },
  {
   "cell_type": "code",
   "execution_count": 4,
   "id": "3f565a14",
   "metadata": {},
   "outputs": [
    {
     "name": "stdout",
     "output_type": "stream",
     "text": [
      "There are 15 patients of blood type A.\n",
      "There are 13 patients of blood type AB.\n",
      "There are 1 patients of blood type B.\n",
      "There are 15 patients of blood type O.\n",
      "There are 0 patients of blood type OO.\n"
     ]
    }
   ],
   "source": [
    "with open('C:/Users/kuria/Desktop/bloodtype1.txt','r') as file:\n",
    "   \n",
    "    # reading each line\n",
    "    AB=0;\n",
    "    A=0;\n",
    "    B=0;\n",
    "    O=0;\n",
    "    OO=0;\n",
    "    \n",
    "    for line in file:\n",
    "   \n",
    "        # reading each word        \n",
    "        for word in line.split():\n",
    "   \n",
    "            # displaying the words  \n",
    "            if word=='AB':\n",
    "                AB=AB+1\n",
    "            elif word=='A':\n",
    "                A=A+1\n",
    "            elif word=='B':\n",
    "                B=B+1\n",
    "            elif word=='O':\n",
    "                O=O+1\n",
    "            elif word=='OO':\n",
    "                OO=OO+1\n",
    "            \n",
    "        print(\"There are \"+ str(A) +\" patients of blood type A.\")\n",
    "        print(\"There are \"+ str(AB) +\" patients of blood type AB.\")\n",
    "        print(\"There are \"+ str(B) +\" patients of blood type B.\")\n",
    "        print(\"There are \"+ str(O) +\" patients of blood type O.\")\n",
    "        print(\"There are \"+ str(OO) +\" patients of blood type OO.\")"
   ]
  },
  {
   "cell_type": "markdown",
   "id": "05c8db69",
   "metadata": {},
   "source": [
    "Question 8 Python\n",
    "Write a function curconv() that takes as input:\n",
    "1. a currency represented using a string (e.g., 'JPY' for the Japanese Yen or\n",
    "'EUR' for the Euro)\n",
    "2. an amount\n",
    "and then converts and returns the amount in US dollars"
   ]
  },
  {
   "cell_type": "code",
   "execution_count": 5,
   "id": "38821410",
   "metadata": {},
   "outputs": [
    {
     "name": "stdout",
     "output_type": "stream",
     "text": [
      "122.96544\n"
     ]
    }
   ],
   "source": [
    "def curconv (curr, amount):\n",
    "    \n",
    "    usd=0;\n",
    "   \n",
    "    if curr=='AUD':\n",
    "        usd=amount*1.0345157\n",
    "    elif curr=='CHF':\n",
    "        usd=amount*1.0237414\n",
    "    elif curr=='CNY':\n",
    "        usd=amount*0.1550176\n",
    "    elif curr=='DKK':\n",
    "        usd=amount*0.1651442\n",
    "    elif curr=='EUR':\n",
    "        usd=amount*1.2296544\n",
    "    elif curr=='GBP':\n",
    "        usd=amount*1.5550989\n",
    "    elif curr=='HKD':\n",
    "        usd=amount*0.1270207\n",
    "    elif curr=='INR':\n",
    "        usd=amount*0.0177643\n",
    "    elif curr=='JPY':\n",
    "        usd=amount*0.01241401\n",
    "    elif curr=='MXN':\n",
    "        usd=amount*0.0751848\n",
    "    elif curr=='MYR':\n",
    "        usd=amount*0.3145411\n",
    "    elif curr=='NOK':\n",
    "        usd=amount*0.1677063\n",
    "    elif curr=='NZD':\n",
    "        usd=amount*0.8003591\n",
    "    elif curr=='PHP':\n",
    "        usd=amount*0.0233234\n",
    "    elif curr=='SEK':\n",
    "        usd=amount*0.148269\n",
    "    elif curr=='SGD':\n",
    "        usd=amount*0.788871\n",
    "    elif curr=='THB':\n",
    "        usd=amount*0.0313789\n",
    "        \n",
    "        \n",
    "        \n",
    "    print(usd)\n",
    "\n",
    "\n",
    "curconv('EUR',100)\n"
   ]
  },
  {
   "cell_type": "code",
   "execution_count": 6,
   "id": "1ff95854",
   "metadata": {},
   "outputs": [
    {
     "name": "stdout",
     "output_type": "stream",
     "text": [
      "1.241401\n"
     ]
    }
   ],
   "source": [
    "def curconv (curr, amount):\n",
    "    \n",
    "    usd=0;\n",
    "   \n",
    "    if curr=='AUD':\n",
    "        usd=amount*1.0345157\n",
    "    elif curr=='CHF':\n",
    "        usd=amount*1.0237414\n",
    "    elif curr=='CNY':\n",
    "        usd=amount*0.1550176\n",
    "    elif curr=='DKK':\n",
    "        usd=amount*0.1651442\n",
    "    elif curr=='EUR':\n",
    "        usd=amount*1.2296544\n",
    "    elif curr=='GBP':\n",
    "        usd=amount*1.5550989\n",
    "    elif curr=='HKD':\n",
    "        usd=amount*0.1270207\n",
    "    elif curr=='INR':\n",
    "        usd=amount*0.0177643\n",
    "    elif curr=='JPY':\n",
    "        usd=amount*0.01241401\n",
    "    elif curr=='MXN':\n",
    "        usd=amount*0.0751848\n",
    "    elif curr=='MYR':\n",
    "        usd=amount*0.3145411\n",
    "    elif curr=='NOK':\n",
    "        usd=amount*0.1677063\n",
    "    elif curr=='NZD':\n",
    "        usd=amount*0.8003591\n",
    "    elif curr=='PHP':\n",
    "        usd=amount*0.0233234\n",
    "    elif curr=='SEK':\n",
    "        usd=amount*0.148269\n",
    "    elif curr=='SGD':\n",
    "        usd=amount*0.788871\n",
    "    elif curr=='THB':\n",
    "        usd=amount*0.0313789\n",
    "        \n",
    "        \n",
    "        \n",
    "    print(usd)\n",
    "\n",
    "\n",
    "curconv('JPY',100)"
   ]
  },
  {
   "cell_type": "markdown",
   "id": "70871eb9",
   "metadata": {},
   "source": [
    "Question 9 Python\n",
    "Each of the following will cause an exception (an error). Identify what type of\n",
    "exception each will cause.\n",
    "\n",
    "A) Trying to add incompatible variables, as in\n",
    "    adding 6 + ‘a’\n",
    "B) Referring to the 12th item of a list that has only 10\n",
    "    items\n",
    "C) Using a value that is out of range for a function’s\n",
    "    input, such as calling math.sqrt(-1.0)\n",
    "D) Using an undeclared variable, such as print(x)\n",
    "    when x has not been defined\n",
    "E) Trying to open a file that does not exist, such as\n",
    "    mistyping the file name or looking in the wrong\n",
    "    directory. "
   ]
  },
  {
   "cell_type": "markdown",
   "id": "16d99838",
   "metadata": {},
   "source": [
    "Answer 9)\n",
    "\n",
    "A - Type error\n",
    "B - Index error\n",
    "C - Value error (out of range)\n",
    "D - Name error\n",
    "E - File not found"
   ]
  },
  {
   "cell_type": "markdown",
   "id": "d43ec9e6",
   "metadata": {},
   "source": [
    "Question 10 Python\n",
    "Encryption is the process of hiding the meaning of a text by substituting letters in the\n",
    "message with other letters, according to some system. If the process is successful, no\n",
    "one but the intended recipient can understand the encrypted message. Cryptanalysis\n",
    "refers to attempts to undo the encryption, even if some details of the encryption are\n",
    "unknown (for example, if an encrypted message has been intercepted). The first step\n",
    "of cryptanalysis is often to build up a table of letter frequencies in the encrypted text.\n",
    "Assume that the string letters is already defined as\n",
    "'abcdefghijklmnopqrstuvwxyz'. Write a function called frequencies()\n",
    "that takes a string as its only parameter, and returns a list of integers, showing the\n",
    "number of times each character appears in the text. Your function may ignore any\n",
    "characters that are not in letters. "
   ]
  },
  {
   "cell_type": "code",
   "execution_count": 1,
   "id": "9c5ffa3a",
   "metadata": {},
   "outputs": [
    {
     "name": "stdout",
     "output_type": "stream",
     "text": [
      "26\n",
      "[1, 0, 0, 0, 1, 0, 0, 0, 0, 0, 0, 1, 0, 0, 0, 2, 0, 0, 0, 0, 0, 0, 0, 0, 0, 0]\n"
     ]
    }
   ],
   "source": [
    "def frequencies(word):\n",
    "    \n",
    "    letters='abcdefghijklmnopqrstuvwxyz';\n",
    "    shejin = [];\n",
    "    \n",
    "    print(len(letters))\n",
    "    \n",
    "    for i in range(len(letters)):\n",
    "        outr=word.count(letters[i])\n",
    "        shejin.append(outr)\n",
    "    print(shejin)\n",
    "\n",
    "frequencies('apple')\n"
   ]
  },
  {
   "cell_type": "code",
   "execution_count": 2,
   "id": "bbfe183c",
   "metadata": {},
   "outputs": [
    {
     "name": "stdout",
     "output_type": "stream",
     "text": [
      "26\n",
      "[1, 1, 1, 3, 5, 1, 1, 2, 1, 0, 1, 0, 1, 2, 4, 0, 1, 2, 0, 2, 1, 0, 1, 1, 0, 0]\n"
     ]
    }
   ],
   "source": [
    "def frequencies(word):\n",
    "    \n",
    "    letters='abcdefghijklmnopqrstuvwxyz';\n",
    "    shejin = [];\n",
    "    \n",
    "    print(len(letters))\n",
    "    \n",
    "    for i in range(len(letters)):\n",
    "        outr=word.count(letters[i])\n",
    "        shejin.append(outr)\n",
    "    print(shejin)\n",
    "\n",
    "frequencies('The quick red fox got bored and went home.')\n"
   ]
  }
 ],
 "metadata": {
  "kernelspec": {
   "display_name": "Python 3",
   "language": "python",
   "name": "python3"
  },
  "language_info": {
   "codemirror_mode": {
    "name": "ipython",
    "version": 3
   },
   "file_extension": ".py",
   "mimetype": "text/x-python",
   "name": "python",
   "nbconvert_exporter": "python",
   "pygments_lexer": "ipython3",
   "version": "3.8.8"
  }
 },
 "nbformat": 4,
 "nbformat_minor": 5
}
